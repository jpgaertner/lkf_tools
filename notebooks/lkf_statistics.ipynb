{
 "cells": [
  {
   "cell_type": "code",
   "execution_count": 1,
   "id": "9c865a27-cb7f-4a76-b3f8-7972aadef184",
   "metadata": {},
   "outputs": [],
   "source": [
    "%load_ext autoreload\n",
    "%autoreload 2\n",
    "\n",
    "import xarray as xr\n",
    "import os\n",
    "from pathlib import Path\n",
    "from lkf_tools.dataset import *\n",
    "from lkf_tools.stats import *"
   ]
  },
  {
   "cell_type": "code",
   "execution_count": 2,
   "id": "791c731b-1704-46fe-8228-891d3d92eef7",
   "metadata": {},
   "outputs": [
    {
     "name": "stdout",
     "output_type": "stream",
     "text": [
      "Error: Cannot choose which pickle to load in []\n"
     ]
    }
   ],
   "source": [
    "test = load_lkf_dataset('../data/lkfs/RGPS/w0001/')"
   ]
  },
  {
   "cell_type": "code",
   "execution_count": null,
   "id": "81149309-e490-470f-9b76-8dd313cf3654",
   "metadata": {},
   "outputs": [],
   "source": []
  }
 ],
 "metadata": {
  "kernelspec": {
   "display_name": "Python 3 (ipykernel)",
   "language": "python",
   "name": "python3"
  },
  "language_info": {
   "codemirror_mode": {
    "name": "ipython",
    "version": 3
   },
   "file_extension": ".py",
   "mimetype": "text/x-python",
   "name": "python",
   "nbconvert_exporter": "python",
   "pygments_lexer": "ipython3",
   "version": "3.10.2"
  }
 },
 "nbformat": 4,
 "nbformat_minor": 5
}
